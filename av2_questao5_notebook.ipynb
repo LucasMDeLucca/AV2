{
 "cells": [
  {
   "cell_type": "markdown",
   "id": "faab825d",
   "metadata": {},
   "source": [
    "# AV2"
   ]
  },
  {
   "cell_type": "code",
   "execution_count": 3,
   "id": "aa2d5d9b",
   "metadata": {},
   "outputs": [
    {
     "data": {
      "text/plain": [
       "(3.5355, 3.5355)"
      ]
     },
     "execution_count": 3,
     "metadata": {},
     "output_type": "execute_result"
    }
   ],
   "source": [
    "import matplotlib.pyplot as plt\n",
    "import numpy as np\n",
    "\n",
    "def convert(r: float, theta: float, ):\n",
    "    return np.round(r*np.cos(theta), 4), np.round(r*np.sin(theta), 4)\n",
    "\n",
    "convert(5, np.pi/4)\n",
    "\n"
   ]
  },
  {
   "cell_type": "code",
   "execution_count": null,
   "id": "07aa8e25",
   "metadata": {},
   "outputs": [],
   "source": []
  }
 ],
 "metadata": {
  "kernelspec": {
   "display_name": "base",
   "language": "python",
   "name": "python3"
  },
  "language_info": {
   "codemirror_mode": {
    "name": "ipython",
    "version": 3
   },
   "file_extension": ".py",
   "mimetype": "text/x-python",
   "name": "python",
   "nbconvert_exporter": "python",
   "pygments_lexer": "ipython3",
   "version": "3.11.7"
  }
 },
 "nbformat": 4,
 "nbformat_minor": 5
}
